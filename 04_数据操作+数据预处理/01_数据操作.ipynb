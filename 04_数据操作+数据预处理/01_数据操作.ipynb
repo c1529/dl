{
 "cells": [
  {
   "cell_type": "markdown",
   "id": "49c4dc50",
   "metadata": {},
   "source": [
    "# 数据操作"
   ]
  },
  {
   "cell_type": "code",
   "execution_count": 1,
   "id": "287f6546",
   "metadata": {},
   "outputs": [],
   "source": [
    "import torch"
   ]
  },
  {
   "cell_type": "markdown",
   "id": "b227be5e",
   "metadata": {},
   "source": [
    "### torch里面张量是一维数组，对应数学里面的向量(vector);具有两个轴的张量对应矩阵，多维则没有名字"
   ]
  },
  {
   "cell_type": "code",
   "execution_count": 7,
   "id": "fc662375",
   "metadata": {},
   "outputs": [
    {
     "name": "stdout",
     "output_type": "stream",
     "text": [
      "tensor([ 0,  1,  2,  3,  4,  5,  6,  7,  8,  9, 10, 11])\n",
      "tensor([ 0,  1,  2,  3,  4,  5,  6,  7,  8,  9, 10, 11])\n"
     ]
    }
   ],
   "source": [
    "x = torch.tensor([0,1,2,3,4,5,6,7,8,9,10,11])\n",
    "y = torch.arange(12)\n",
    "print(x)\n",
    "print(y)"
   ]
  },
  {
   "cell_type": "code",
   "execution_count": 8,
   "id": "1528b64f",
   "metadata": {},
   "outputs": [
    {
     "name": "stdout",
     "output_type": "stream",
     "text": [
      "torch.Size([12])\n",
      "torch.Size([12])\n"
     ]
    }
   ],
   "source": [
    "print(x.size())\n",
    "print(y.size())"
   ]
  },
  {
   "cell_type": "code",
   "execution_count": 10,
   "id": "716588d0",
   "metadata": {},
   "outputs": [
    {
     "name": "stdout",
     "output_type": "stream",
     "text": [
      "12\n"
     ]
    }
   ],
   "source": [
    "print(x.numel())"
   ]
  },
  {
   "cell_type": "markdown",
   "id": "94983f64",
   "metadata": {},
   "source": [
    "### 改变一个张量的形状而不改变张量的元素，可以用reshape()"
   ]
  },
  {
   "cell_type": "code",
   "execution_count": 11,
   "id": "13d4b00d",
   "metadata": {},
   "outputs": [
    {
     "name": "stdout",
     "output_type": "stream",
     "text": [
      "tensor([[ 0,  1,  2,  3],\n",
      "        [ 4,  5,  6,  7],\n",
      "        [ 8,  9, 10, 11]])\n",
      "torch.Size([3, 4])\n",
      "12\n"
     ]
    }
   ],
   "source": [
    "X = x.reshape(3,4)\n",
    "print(X)\n",
    "print(X.size())\n",
    "print(X.numel())"
   ]
  },
  {
   "cell_type": "code",
   "execution_count": 13,
   "id": "c130fbe9",
   "metadata": {},
   "outputs": [
    {
     "name": "stdout",
     "output_type": "stream",
     "text": [
      "tensor([[0., 0., 0., 0.],\n",
      "        [0., 0., 0., 0.],\n",
      "        [0., 0., 0., 0.]])\n",
      "tensor([[1., 1., 1.],\n",
      "        [1., 1., 1.],\n",
      "        [1., 1., 1.],\n",
      "        [1., 1., 1.]])\n"
     ]
    }
   ],
   "source": [
    "# 创建一些特别的函数\n",
    "# 1.全零函数\n",
    "zero1 = torch.zeros(3,4)\n",
    "print(zero1)\n",
    "one1 = torch.ones(4,3)\n",
    "print(one1)"
   ]
  },
  {
   "cell_type": "code",
   "execution_count": 16,
   "id": "22c8c39a",
   "metadata": {},
   "outputs": [
    {
     "name": "stdout",
     "output_type": "stream",
     "text": [
      "tensor([[1, 2, 3],\n",
      "        [4, 5, 6]])\n",
      "torch.Size([2, 3])\n"
     ]
    }
   ],
   "source": [
    "# 创建特定的值\n",
    "# 大[]里面加小[],跟线性代数的矩阵含义一样\n",
    "z = torch.tensor([[1,2,3],[4,5,6]])\n",
    "print(z)\n",
    "print(z.size())"
   ]
  },
  {
   "cell_type": "markdown",
   "id": "2502a199",
   "metadata": {},
   "source": [
    "### 张量的加减乘除运算"
   ]
  },
  {
   "cell_type": "code",
   "execution_count": 19,
   "id": "be835168",
   "metadata": {},
   "outputs": [
    {
     "name": "stdout",
     "output_type": "stream",
     "text": [
      "tensor([ 3.,  4.,  6., 10.])\n",
      "tensor([-1.,  0.,  2.,  6.])\n",
      "tensor([ 2.,  4.,  8., 16.])\n",
      "tensor([0.5000, 1.0000, 2.0000, 4.0000])\n",
      "tensor([ 1.,  4., 16., 64.])\n"
     ]
    }
   ],
   "source": [
    "x1 = torch.tensor([1.0,2,4,8])\n",
    "y1 = torch.tensor([2,2,2,2])\n",
    "print(x1+y1)\n",
    "print(x1-y1)\n",
    "print(x1*y1)\n",
    "print(x1/y1)\n",
    "print(x1**y1)  # 求幂运算"
   ]
  },
  {
   "cell_type": "markdown",
   "id": "e315d3b6",
   "metadata": {},
   "source": [
    "### 将张量结合起来"
   ]
  },
  {
   "cell_type": "code",
   "execution_count": 26,
   "id": "3530aef1",
   "metadata": {},
   "outputs": [
    {
     "name": "stdout",
     "output_type": "stream",
     "text": [
      "tensor([[ 0.,  1.,  2.,  3.],\n",
      "        [ 4.,  5.,  6.,  7.],\n",
      "        [ 8.,  9., 10., 11.],\n",
      "        [ 2.,  1.,  4.,  3.],\n",
      "        [ 1.,  2.,  3.,  4.],\n",
      "        [ 4.,  3.,  2.,  1.]])\n",
      "tensor([[ 0.,  1.,  2.,  3.,  2.,  1.,  4.,  3.],\n",
      "        [ 4.,  5.,  6.,  7.,  1.,  2.,  3.,  4.],\n",
      "        [ 8.,  9., 10., 11.,  4.,  3.,  2.,  1.]])\n"
     ]
    }
   ],
   "source": [
    "x2 = torch.arange(12,dtype=torch.float32).reshape(3,4)\n",
    "y2 = torch.tensor([[2.0,1,4,3],[1,2,3,4],[4,3,2,1]])\n",
    "# dim是按照维度来拼接，dim=0是一维\n",
    "print(torch.cat((x2,y2),dim=0))\n",
    "print(torch.cat((x2,y2),dim=1))"
   ]
  },
  {
   "cell_type": "code",
   "execution_count": 29,
   "id": "2d7db106",
   "metadata": {},
   "outputs": [
    {
     "name": "stdout",
     "output_type": "stream",
     "text": [
      "tensor([[[ 0.,  1.],\n",
      "         [ 2.,  3.]],\n",
      "\n",
      "        [[ 4.,  5.],\n",
      "         [ 6.,  7.]],\n",
      "\n",
      "        [[ 8.,  9.],\n",
      "         [10., 11.]],\n",
      "\n",
      "        [[ 0.,  1.],\n",
      "         [ 2.,  3.]],\n",
      "\n",
      "        [[ 4.,  5.],\n",
      "         [ 6.,  7.]],\n",
      "\n",
      "        [[ 8.,  9.],\n",
      "         [10., 11.]]])\n",
      "tensor([[[ 0.,  1.],\n",
      "         [ 2.,  3.],\n",
      "         [ 0.,  1.],\n",
      "         [ 2.,  3.]],\n",
      "\n",
      "        [[ 4.,  5.],\n",
      "         [ 6.,  7.],\n",
      "         [ 4.,  5.],\n",
      "         [ 6.,  7.]],\n",
      "\n",
      "        [[ 8.,  9.],\n",
      "         [10., 11.],\n",
      "         [ 8.,  9.],\n",
      "         [10., 11.]]])\n",
      "tensor([[[ 0.,  1.,  0.,  1.],\n",
      "         [ 2.,  3.,  2.,  3.]],\n",
      "\n",
      "        [[ 4.,  5.,  4.,  5.],\n",
      "         [ 6.,  7.,  6.,  7.]],\n",
      "\n",
      "        [[ 8.,  9.,  8.,  9.],\n",
      "         [10., 11., 10., 11.]]])\n"
     ]
    }
   ],
   "source": [
    "x3 = torch.arange(12,dtype=torch.float32).reshape(3,2,2)\n",
    "y3 = torch.arange(12,dtype=torch.float32).reshape(3,2,2)\n",
    "# dim是按照维度来拼接，dim=0是一维\n",
    "# 如果不理解请看 \"[\"\n",
    "print(torch.cat((x3,y3),dim=0))\n",
    "print(torch.cat((x3,y3),dim=1))\n",
    "print(torch.cat((x3,y3),dim=2))"
   ]
  },
  {
   "cell_type": "code",
   "execution_count": 30,
   "id": "efa08188",
   "metadata": {},
   "outputs": [
    {
     "data": {
      "text/plain": [
       "tensor(66.)"
      ]
     },
     "execution_count": 30,
     "metadata": {},
     "output_type": "execute_result"
    }
   ],
   "source": [
    "# 对张量求和\n",
    "x3.sum()"
   ]
  },
  {
   "cell_type": "markdown",
   "id": "b1d69d35",
   "metadata": {},
   "source": [
    "### 即使两个张量形状不同，仍可以通过广播机制来执行元素操作"
   ]
  },
  {
   "cell_type": "code",
   "execution_count": 31,
   "id": "b13faf20",
   "metadata": {},
   "outputs": [
    {
     "name": "stdout",
     "output_type": "stream",
     "text": [
      "tensor([[0],\n",
      "        [1],\n",
      "        [2]])\n",
      "tensor([[0, 1]])\n",
      "tensor([[0, 1],\n",
      "        [1, 2],\n",
      "        [2, 3]])\n"
     ]
    }
   ],
   "source": [
    "a = torch.arange(3).reshape((3,1))\n",
    "b = torch.arange(2).reshape((1,2))\n",
    "print(a)\n",
    "print(b)\n",
    "print(a+b)"
   ]
  },
  {
   "cell_type": "markdown",
   "id": "2dd943c7",
   "metadata": {},
   "source": [
    "### 元素的访问"
   ]
  },
  {
   "cell_type": "code",
   "execution_count": 34,
   "id": "8d0ad7b4",
   "metadata": {},
   "outputs": [
    {
     "name": "stdout",
     "output_type": "stream",
     "text": [
      "tensor([[ 0,  1,  2,  3],\n",
      "        [ 4,  5,  6,  7],\n",
      "        [ 8,  9, 10, 11]])\n",
      "tensor([ 8,  9, 10, 11])\n",
      "tensor([[ 4,  5,  6,  7],\n",
      "        [ 8,  9, 10, 11]])\n",
      "tensor([1, 5, 9])\n"
     ]
    }
   ],
   "source": [
    "x = torch.arange(12).reshape((3,4))\n",
    "print(x)\n",
    "print(x[-1])\n",
    "print(x[1:3])\n",
    "print(x[:,1])"
   ]
  }
 ],
 "metadata": {
  "kernelspec": {
   "display_name": "dl",
   "language": "python",
   "name": "dl"
  },
  "language_info": {
   "codemirror_mode": {
    "name": "ipython",
    "version": 3
   },
   "file_extension": ".py",
   "mimetype": "text/x-python",
   "name": "python",
   "nbconvert_exporter": "python",
   "pygments_lexer": "ipython3",
   "version": "3.8.18"
  }
 },
 "nbformat": 4,
 "nbformat_minor": 5
}
